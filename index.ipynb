{
 "cells": [
  {
   "cell_type": "markdown",
   "metadata": {},
   "source": [
    "# Conditionals"
   ]
  },
  {
   "cell_type": "markdown",
   "metadata": {},
   "source": [
    "### Introduction"
   ]
  },
  {
   "cell_type": "markdown",
   "metadata": {},
   "source": [
    "So far, we have seen how to retrieve data from our code, and manipulate that data.  What we have not learned, however, is how to make decisions with that data. Making decisions is something that we do every day in the real world. For example, if a restaurant is too expensive we may want to choose a different one. If it's too cold outside, we should find something to do inside. These are the types of decisions we want our code to make as well. After learning about conditionals we can do just that.  "
   ]
  },
  {
   "cell_type": "code",
   "execution_count": 104,
   "metadata": {},
   "outputs": [
    {
     "name": "stdout",
     "output_type": "stream",
     "text": [
      "['Alice:100', 'Bob:100', 'Bob:20', 'Celia:110']\n",
      "['Alice', 100, 'Bob', 100, 'Bob', 20, 'Celia', 110]\n",
      "['Alice', 100, 'Bob', 100, 20, 'Celia', 110]\n",
      "['Alice', 100, 'Bob', 100, 20, 'Celia', 110]\n",
      "120\n"
     ]
    }
   ],
   "source": [
    "import pandas as pd\n",
    "\n",
    "day_i = [\"Bob:100\", \"Alice:100\", \"Celia:110\", \"Bob:20\"]\n",
    "\n",
    "sort_day_i = sorted(day_i)\n",
    "print(sort_day_i)\n",
    "\n",
    "def list_splitter(big_list):\n",
    "    x = 0\n",
    "    split_list = []\n",
    "    for item in big_list:\n",
    "        cust_pur = item.split(':')\n",
    "        split_list.append(cust_pur[0])\n",
    "        split_list.append(int(cust_pur[1]))\n",
    "        x = x+1\n",
    "    return(split_list)\n",
    "    print(split_list)\n",
    "\n",
    "split_day_i = list_splitter(sort_day_i)\n",
    "print(split_day_i)\n",
    "\n",
    "\n",
    "def name_consol(new_list):\n",
    "    one_name_list = []\n",
    "    for thing in new_list:\n",
    "        if thing not in one_name_list and type(thing) != int:\n",
    "            one_name_list.append(thing)\n",
    "        if type(thing) == int:\n",
    "            one_name_list.append(thing)\n",
    "    return(one_name_list)\n",
    "    print(one_name_list)\n",
    "    \n",
    "one_name_day_i = name_consol(split_day_i)\n",
    "print(one_name_day_i)\n",
    "\n",
    "def order_consol(other_list):\n",
    "    combo_list = []\n",
    "    x = 0\n",
    "    for order in other_list:\n",
    "        if type(other_list[x]) == int and type(other_list[x+1]) == int:\n",
    "                y = other_list[x] + other_list[x+1]\n",
    "                combo_list.append(y)\n",
    "        else:\n",
    "            combo_list.append(order)\n",
    "    x = x+1\n",
    "    return(combo_list)\n",
    "    print(combo_list)\n",
    "    \n",
    "combo_day_i = order_consol(one_name_day_i)\n",
    "print(combo_day_i)\n",
    "\n",
    "if type(one_name_day_i[3]) == int and type(one_name_day_i[3+1]) == int:\n",
    "    print(one_name_day_i[3] + one_name_day_i[3+1])\n",
    "else:\n",
    "    print('doopie')\n",
    "        "
   ]
  },
  {
   "cell_type": "markdown",
   "metadata": {},
   "source": [
    "### Learning Objectives"
   ]
  },
  {
   "cell_type": "code",
   "execution_count": 3,
   "metadata": {},
   "outputs": [
    {
     "name": "stdout",
     "output_type": "stream",
     "text": [
      "What is the lower bound? 1\n",
      "What is the upper bound? 100\n",
      "True or False: The number in your head is either the upper or the lower bound: False\n",
      "True or false: The number in your head is higher than 50 True\n",
      "True or false: The number in your head is higher than 75 True\n",
      "True or false: The number in your head is higher than 87 True\n"
     ]
    }
   ],
   "source": [
    "def str2bool(v):\n",
    "    return v.lower() in (\"yes\", \"true\", \"True\", \"t\", \"1\")\n",
    "\n",
    "lower_bound = int(input(\"What is the lower bound? \"))\n",
    "upper_bound = int(input(\"What is the upper bound? \"))\n",
    "\n",
    "Q1 = str2bool(input(\"True or False: The number in your head is either the upper or the lower bound: \"))\n",
    "if Q1 == True:\n",
    "    Q1_last = str2bool(input(f\"True or False: The number in your head is {upper_bound}: \"))\n",
    "    if Q1_last == True: \n",
    "        print(f\"The number in your head is {upper_bound}!\")\n",
    "    if Q1_last == False:\n",
    "        print(f\"The number in your head is {lower_bound}!\")\n",
    "else:\n",
    "    Q_oops = str2bool(input(f\"True or False: The number in your head is {upper_bound/2}: \"))\n",
    "    if Q_oops == True:\n",
    "        print(f\"The number in your head is {upper_bound/2}!\")\n",
    "    else:\n",
    "        Q2 = str2bool(input(f\"True or false: The number in your head is higher than {int(upper_bound/2)} \"))\n",
    "        if Q2 == True:\n",
    "            Q3_t = str2bool(input(f\"True or false: The number in your head is higher than {int((upper_bound + upper_bound/2)/2)} \"))\n",
    "            if Q3_t == True:\n",
    "                Q4_t_t = str2bool(input(f\"True or false: The number in your head is higher than {int((upper_bound + (upper_bound + upper_bound/2)/2)/2)} \"))\n",
    "                "
   ]
  },
  {
   "cell_type": "code",
   "execution_count": 14,
   "metadata": {},
   "outputs": [
    {
     "name": "stdout",
     "output_type": "stream",
     "text": [
      "Type 'True' or 'False' for all answers please\n",
      "What is the lower bound? 1\n",
      "What is the upper bound? 100\n",
      "The number in your head is 50: True\n"
     ]
    },
    {
     "ename": "TypeError",
     "evalue": "'bool' object is not iterable",
     "output_type": "error",
     "traceback": [
      "\u001b[0;31m\u001b[0m",
      "\u001b[0;31mTypeError\u001b[0mTraceback (most recent call last)",
      "\u001b[0;32m<ipython-input-14-bf86ccb0fdf6>\u001b[0m in \u001b[0;36m<module>\u001b[0;34m\u001b[0m\n\u001b[1;32m     21\u001b[0m \u001b[0;34m\u001b[0m\u001b[0m\n\u001b[1;32m     22\u001b[0m \u001b[0mprint\u001b[0m\u001b[0;34m(\u001b[0m\u001b[0;34m\"Type 'True' or 'False' for all answers please\"\u001b[0m\u001b[0;34m)\u001b[0m\u001b[0;34m\u001b[0m\u001b[0;34m\u001b[0m\u001b[0m\n\u001b[0;32m---> 23\u001b[0;31m \u001b[0mnumber_guesser\u001b[0m\u001b[0;34m(\u001b[0m\u001b[0mint\u001b[0m\u001b[0;34m(\u001b[0m\u001b[0minput\u001b[0m\u001b[0;34m(\u001b[0m\u001b[0;34m\"What is the lower bound? \"\u001b[0m\u001b[0;34m)\u001b[0m\u001b[0;34m)\u001b[0m\u001b[0;34m,\u001b[0m \u001b[0mint\u001b[0m\u001b[0;34m(\u001b[0m\u001b[0minput\u001b[0m\u001b[0;34m(\u001b[0m\u001b[0;34m\"What is the upper bound? \"\u001b[0m\u001b[0;34m)\u001b[0m\u001b[0;34m)\u001b[0m\u001b[0;34m)\u001b[0m\u001b[0;34m\u001b[0m\u001b[0;34m\u001b[0m\u001b[0m\n\u001b[0m",
      "\u001b[0;32m<ipython-input-14-bf86ccb0fdf6>\u001b[0m in \u001b[0;36mnumber_guesser\u001b[0;34m(a, b)\u001b[0m\n\u001b[1;32m      5\u001b[0m     \u001b[0mguess\u001b[0m \u001b[0;34m=\u001b[0m \u001b[0mint\u001b[0m\u001b[0;34m(\u001b[0m\u001b[0mb\u001b[0m\u001b[0;34m/\u001b[0m\u001b[0;36m2\u001b[0m\u001b[0;34m)\u001b[0m\u001b[0;34m\u001b[0m\u001b[0;34m\u001b[0m\u001b[0m\n\u001b[1;32m      6\u001b[0m     \u001b[0mprediction\u001b[0m \u001b[0;34m=\u001b[0m \u001b[0mstr2bool\u001b[0m\u001b[0;34m(\u001b[0m\u001b[0minput\u001b[0m\u001b[0;34m(\u001b[0m\u001b[0;34mf'The number in your head is {guess}: '\u001b[0m\u001b[0;34m)\u001b[0m\u001b[0;34m)\u001b[0m\u001b[0;34m\u001b[0m\u001b[0;34m\u001b[0m\u001b[0m\n\u001b[0;32m----> 7\u001b[0;31m     \u001b[0;32mfor\u001b[0m \u001b[0mguesses\u001b[0m \u001b[0;32min\u001b[0m \u001b[0mprediction\u001b[0m\u001b[0;34m:\u001b[0m\u001b[0;34m\u001b[0m\u001b[0;34m\u001b[0m\u001b[0m\n\u001b[0m\u001b[1;32m      8\u001b[0m         \u001b[0;32mif\u001b[0m \u001b[0mprediction\u001b[0m \u001b[0;34m==\u001b[0m \u001b[0;32mTrue\u001b[0m\u001b[0;34m:\u001b[0m\u001b[0;34m\u001b[0m\u001b[0;34m\u001b[0m\u001b[0m\n\u001b[1;32m      9\u001b[0m             \u001b[0mnailed_it\u001b[0m \u001b[0;34m=\u001b[0m \u001b[0mprint\u001b[0m\u001b[0;34m(\u001b[0m\u001b[0;34mf'Got it! Your number is {guess}! '\u001b[0m\u001b[0;34m)\u001b[0m\u001b[0;34m\u001b[0m\u001b[0;34m\u001b[0m\u001b[0m\n",
      "\u001b[0;31mTypeError\u001b[0m: 'bool' object is not iterable"
     ]
    }
   ],
   "source": [
    "def str2bool(v):\n",
    "    return v.lower() in (\"yes\", \"true\", \"True\", \"t\", \"1\")\n",
    "\n",
    "def number_guesser(a,b):\n",
    "    guess = int(b/2)\n",
    "    prediction = str2bool(input(f'The number in your head is {guess}: '))\n",
    "    for guesses in prediction:\n",
    "        if prediction == True:\n",
    "            nailed_it = print(f'Got it! Your number is {guess}! ')\n",
    "        else:\n",
    "            high_or_low = str2bool(input(f'The number in your head is higher than {guess}: '))\n",
    "            if high_or_low == True:\n",
    "                guess = (b+guess)/2\n",
    "                prediction\n",
    "            else:\n",
    "                guess = (b-guess)/2\n",
    "                prediction\n",
    "    return(nailed_it)              \n",
    "    \n",
    "print(\"Type 'True' or 'False' for all answers please\")\n",
    "number_guesser(int(input(\"What is the lower bound? \")), int(input(\"What is the upper bound? \")))"
   ]
  },
  {
   "cell_type": "markdown",
   "metadata": {},
   "source": [
    "* Understand how an `if` statement can change the execution flow of our code when certain conditions are met\n",
    "* Understand how the `if` keyword works with the `else` keyword in Python\n",
    "* See how to select certain data by combining `if` statements in `for` loops "
   ]
  },
  {
   "cell_type": "code",
   "execution_count": 3,
   "metadata": {},
   "outputs": [
    {
     "ename": "TypeError",
     "evalue": "'int' object is not iterable",
     "output_type": "error",
     "traceback": [
      "\u001b[0;31m\u001b[0m",
      "\u001b[0;31mTypeError\u001b[0mTraceback (most recent call last)",
      "\u001b[0;32m<ipython-input-3-2c57e63e8b55>\u001b[0m in \u001b[0;36m<module>\u001b[0;34m\u001b[0m\n\u001b[1;32m     16\u001b[0m     \u001b[0;32mreturn\u001b[0m \u001b[0mbackwards_string\u001b[0m\u001b[0;34m\u001b[0m\u001b[0;34m\u001b[0m\u001b[0m\n\u001b[1;32m     17\u001b[0m \u001b[0;34m\u001b[0m\u001b[0m\n\u001b[0;32m---> 18\u001b[0;31m \u001b[0mreverse_v1\u001b[0m\u001b[0;34m(\u001b[0m\u001b[0;34m\"This is a test\"\u001b[0m\u001b[0;34m)\u001b[0m\u001b[0;34m\u001b[0m\u001b[0;34m\u001b[0m\u001b[0m\n\u001b[0m\u001b[1;32m     19\u001b[0m \u001b[0mprint\u001b[0m\u001b[0;34m(\u001b[0m\u001b[0mreverse_v1\u001b[0m\u001b[0;34m(\u001b[0m\u001b[0;34m\"This is a test\"\u001b[0m\u001b[0;34m)\u001b[0m\u001b[0;34m)\u001b[0m\u001b[0;34m\u001b[0m\u001b[0;34m\u001b[0m\u001b[0m\n",
      "\u001b[0;32m<ipython-input-3-2c57e63e8b55>\u001b[0m in \u001b[0;36mreverse_v1\u001b[0;34m(x)\u001b[0m\n\u001b[1;32m     12\u001b[0m         \u001b[0mb\u001b[0m \u001b[0;34m=\u001b[0m \u001b[0mb\u001b[0m \u001b[0;34m-\u001b[0m \u001b[0;36m1\u001b[0m\u001b[0;34m\u001b[0m\u001b[0;34m\u001b[0m\u001b[0m\n\u001b[1;32m     13\u001b[0m     \u001b[0;32mfor\u001b[0m \u001b[0mitem\u001b[0m \u001b[0;32min\u001b[0m \u001b[0mbackwards_string\u001b[0m\u001b[0;34m:\u001b[0m\u001b[0;34m\u001b[0m\u001b[0;34m\u001b[0m\u001b[0m\n\u001b[0;32m---> 14\u001b[0;31m         \u001b[0msum\u001b[0m\u001b[0;34m(\u001b[0m\u001b[0mbackwards_string\u001b[0m\u001b[0;34m[\u001b[0m\u001b[0mc\u001b[0m\u001b[0;34m]\u001b[0m\u001b[0;34m,\u001b[0m \u001b[0mbackwards_string\u001b[0m\u001b[0;34m[\u001b[0m\u001b[0mc\u001b[0m\u001b[0;34m+\u001b[0m\u001b[0;36m1\u001b[0m\u001b[0;34m]\u001b[0m\u001b[0;34m)\u001b[0m\u001b[0;34m\u001b[0m\u001b[0;34m\u001b[0m\u001b[0m\n\u001b[0m\u001b[1;32m     15\u001b[0m         \u001b[0mc\u001b[0m\u001b[0;34m+\u001b[0m\u001b[0;36m1\u001b[0m\u001b[0;34m\u001b[0m\u001b[0;34m\u001b[0m\u001b[0m\n\u001b[1;32m     16\u001b[0m     \u001b[0;32mreturn\u001b[0m \u001b[0mbackwards_string\u001b[0m\u001b[0;34m\u001b[0m\u001b[0;34m\u001b[0m\u001b[0m\n",
      "\u001b[0;31mTypeError\u001b[0m: 'int' object is not iterable"
     ]
    }
   ],
   "source": [
    "def reverse_v1(x):\n",
    "    split_string = []\n",
    "    backwards_string = []\n",
    "    a = 0\n",
    "    b = -1\n",
    "    c = 0\n",
    "    for string in x:\n",
    "        x.split(' ')\n",
    "        split_string.append(a)\n",
    "        backwards_string.append(split_string[b])\n",
    "        a = a + 1\n",
    "        b = b - 1\n",
    "    for item in backwards_string:\n",
    "        sum(backwards_string[c], backwards_string[c+1])\n",
    "        c+1\n",
    "    return backwards_string\n",
    "\n",
    "reverse_v1(\"This is a test\")\n",
    "print(reverse_v1(\"This is a test\"))"
   ]
  },
  {
   "cell_type": "markdown",
   "metadata": {},
   "source": [
    "### If Statement and Execution Flow"
   ]
  },
  {
   "cell_type": "code",
   "execution_count": 16,
   "metadata": {
    "scrolled": true
   },
   "outputs": [
    {
     "name": "stdout",
     "output_type": "stream",
     "text": [
      "t\n",
      "['this', 'is', 'a', 'test']\n",
      "['a']\n"
     ]
    }
   ],
   "source": [
    "a = \"this is a test\"\n",
    "print(a[0])\n",
    "b = a.split(' ')\n",
    "print (b)\n",
    "def list_reverse(da_list):\n",
    "    for item in da_list:\n",
    "        c = []\n",
    "        x = (len(da_list)-1)\n",
    "        c.append(da_list[x])\n",
    "        da_list.pop(x)\n",
    "    return c\n",
    "    print(c)\n",
    "print(list_reverse(b))"
   ]
  },
  {
   "cell_type": "markdown",
   "metadata": {},
   "source": [
    "So far in Python, all of our lines of code run one after the other. So in the code below, `vacation_days` is initially assigned to `0`, then it is reassigned by incrementing by one, and again reassigned by incrementing again by one, which brings the `vacation_days` to a total of `2`."
   ]
  },
  {
   "cell_type": "code",
   "execution_count": 1,
   "metadata": {},
   "outputs": [
    {
     "data": {
      "text/plain": [
       "2"
      ]
     },
     "execution_count": 1,
     "metadata": {},
     "output_type": "execute_result"
    }
   ],
   "source": [
    "vacation_days = 0\n",
    "vacation_days += 1\n",
    "vacation_days += 1\n",
    "vacation_days"
   ]
  },
  {
   "cell_type": "markdown",
   "metadata": {},
   "source": [
    "> The `+=` is used to increment. The statement `vacation_days += 1` can be thought of as `vacation_days = vacation_days + 1`. On line 2, `vacation_days` is `0`. Then we reassign `vacation_days` to equal the previous value of `vacation_days`, which is `0`, plus `1`. Again we increment vacation_days on line 3, which would now equate to `1 + 1`, and finally we output the new value of `vacation_days`, `2`.\n",
    "\n",
    "\n",
    "Contrast this with code that contains an `if` statement. Code that is part of an `if` block runs only when the conditional argument following the `if` evaluates to `True`. So it is not necessarily the case that every line of code runs."
   ]
  },
  {
   "cell_type": "code",
   "execution_count": 2,
   "metadata": {},
   "outputs": [],
   "source": [
    "vacation_days = 1\n",
    "if False:\n",
    "    # code does not run as conditional argument False\n",
    "    vacation_days += 1"
   ]
  },
  {
   "cell_type": "code",
   "execution_count": 3,
   "metadata": {},
   "outputs": [
    {
     "data": {
      "text/plain": [
       "1"
      ]
     },
     "execution_count": 3,
     "metadata": {},
     "output_type": "execute_result"
    }
   ],
   "source": [
    "vacation_days"
   ]
  },
  {
   "cell_type": "markdown",
   "metadata": {
    "collapsed": true
   },
   "source": [
    "Above we can see that since the condition following the `if` equals `False`, the code directly underneath is not run.  So, `vacation_days` stays assigned to the number 1.  \n",
    "\n",
    "Just as we did with functions, we indicate that something is part of the block by indenting.  So the line `vacation_days += 1` is indented to ensure that whether it is run depends on the conditional argument above.  To end the block we simply stop indenting."
   ]
  },
  {
   "cell_type": "code",
   "execution_count": 4,
   "metadata": {},
   "outputs": [
    {
     "data": {
      "text/plain": [
       "3"
      ]
     },
     "execution_count": 4,
     "metadata": {},
     "output_type": "execute_result"
    }
   ],
   "source": [
    "vacation_days = 1\n",
    "if False:\n",
    "    # if block begins\n",
    "    vacation_days += 1\n",
    "# if block ends\n",
    "vacation_days += 2\n",
    "vacation_days"
   ]
  },
  {
   "cell_type": "markdown",
   "metadata": {},
   "source": [
    "So in the above cell, the last two lines are run because they are not part of the `if` block.\n",
    "\n",
    "And, as you may have guessed, when the conditional argument is `True`, the code in the conditional block **does** run.  "
   ]
  },
  {
   "cell_type": "code",
   "execution_count": 5,
   "metadata": {},
   "outputs": [
    {
     "data": {
      "text/plain": [
       "2"
      ]
     },
     "execution_count": 5,
     "metadata": {},
     "output_type": "execute_result"
    }
   ],
   "source": [
    "vacation_days = 1\n",
    "if True:\n",
    "    # code in if block runs, as True\n",
    "    vacation_days += 1\n",
    "vacation_days"
   ]
  },
  {
   "cell_type": "markdown",
   "metadata": {
    "collapsed": true
   },
   "source": [
    "### Code that sometimes runs"
   ]
  },
  {
   "cell_type": "markdown",
   "metadata": {},
   "source": [
    "Our code in conditional arguments becomes more interesting when we use conditional arguments that are less direct."
   ]
  },
  {
   "cell_type": "code",
   "execution_count": 6,
   "metadata": {},
   "outputs": [],
   "source": [
    "def long_vacation(number_of_days):\n",
    "    if number_of_days > 4:\n",
    "        return 'that is a long vacation'"
   ]
  },
  {
   "cell_type": "code",
   "execution_count": 7,
   "metadata": {
    "scrolled": true
   },
   "outputs": [
    {
     "data": {
      "text/plain": [
       "'that is a long vacation'"
      ]
     },
     "execution_count": 7,
     "metadata": {},
     "output_type": "execute_result"
    }
   ],
   "source": [
    "long_vacation(5) # 'that is a long vacation'"
   ]
  },
  {
   "cell_type": "code",
   "execution_count": 8,
   "metadata": {},
   "outputs": [],
   "source": [
    "long_vacation(3) # None"
   ]
  },
  {
   "cell_type": "markdown",
   "metadata": {},
   "source": [
    "In the code above, you can hopefully see the power of our `if` statement.  Our `if` argument is the expression `number_of_days > 4`, which sometimes evaluates to `True` and sometimes `False`, it depends on the number of days."
   ]
  },
  {
   "cell_type": "markdown",
   "metadata": {},
   "source": [
    "Now sometimes we want to say that when something is `True` do one thing, and when not `True` do something **else**."
   ]
  },
  {
   "cell_type": "code",
   "execution_count": 9,
   "metadata": {},
   "outputs": [],
   "source": [
    "def vacation_length(number_of_days):\n",
    "    if number_of_days > 4:\n",
    "        return 'that is a long vacation'\n",
    "    else:\n",
    "        return 'not so long'"
   ]
  },
  {
   "cell_type": "code",
   "execution_count": 10,
   "metadata": {},
   "outputs": [
    {
     "data": {
      "text/plain": [
       "'not so long'"
      ]
     },
     "execution_count": 10,
     "metadata": {},
     "output_type": "execute_result"
    }
   ],
   "source": [
    "vacation_length(3) # 'not so long'"
   ]
  },
  {
   "cell_type": "code",
   "execution_count": 11,
   "metadata": {},
   "outputs": [
    {
     "data": {
      "text/plain": [
       "'that is a long vacation'"
      ]
     },
     "execution_count": 11,
     "metadata": {},
     "output_type": "execute_result"
    }
   ],
   "source": [
    "vacation_length(5) # 'that is a long vacation'"
   ]
  },
  {
   "cell_type": "markdown",
   "metadata": {},
   "source": [
    "### Truthiness"
   ]
  },
  {
   "cell_type": "markdown",
   "metadata": {},
   "source": [
    "![truthiness](truthiness.png \"Truthiness\")"
   ]
  },
  {
   "cell_type": "markdown",
   "metadata": {},
   "source": [
    "So far our conditionals have depended on whether something evaluates exactly to `True` or `False`.  But conditionals don't force us to be so precise. Conditionals also consider some values `True` if they are `truthy` and `False` if they are `falsy`.  Take a look at the following:"
   ]
  },
  {
   "cell_type": "code",
   "execution_count": 12,
   "metadata": {},
   "outputs": [
    {
     "data": {
      "text/plain": [
       "2"
      ]
     },
     "execution_count": 12,
     "metadata": {},
     "output_type": "execute_result"
    }
   ],
   "source": [
    "vacation_days = 1\n",
    "if vacation_days:\n",
    "    # this is run\n",
    "    vacation_days += 1\n",
    "vacation_days"
   ]
  },
  {
   "cell_type": "markdown",
   "metadata": {},
   "source": [
    "Even through `vacation_days` did not equal `True` above, it still ran the code in the `if` block because the value for `vacation_days` was `1`, which is considered `truthy`."
   ]
  },
  {
   "cell_type": "markdown",
   "metadata": {},
   "source": [
    "However, `0` is not considered truthy.  "
   ]
  },
  {
   "cell_type": "code",
   "execution_count": 13,
   "metadata": {},
   "outputs": [
    {
     "data": {
      "text/plain": [
       "0"
      ]
     },
     "execution_count": 13,
     "metadata": {},
     "output_type": "execute_result"
    }
   ],
   "source": [
    "vacation_days = 0\n",
    "if vacation_days:\n",
    "    # this is not run\n",
    "    vacation_days += 1\n",
    "vacation_days"
   ]
  },
  {
   "cell_type": "markdown",
   "metadata": {},
   "source": [
    "Since `0` is **not** `truthy`, it is considered `falsy`. We can see that the `if` block was not run and `vacation_days` was not incremented, almost as if `vacation_days` evaluated to `False`. \n",
    "\n",
    "So what is truthy and what is falsy in Python?  Zero is falsy, and `None` is falsy.  Also falsy is anything where `len` of that thing returns `False`, so `''`, `[]` are both falsy.  Let's see that. "
   ]
  },
  {
   "cell_type": "code",
   "execution_count": 14,
   "metadata": {
    "scrolled": true
   },
   "outputs": [
    {
     "data": {
      "text/plain": [
       "'Goodbye'"
      ]
     },
     "execution_count": 14,
     "metadata": {},
     "output_type": "execute_result"
    }
   ],
   "source": [
    "greeting = ''\n",
    "if greeting:\n",
    "    greeting += 'Hello'\n",
    "else:\n",
    "    greeting += 'Goodbye'\n",
    "greeting"
   ]
  },
  {
   "cell_type": "markdown",
   "metadata": {},
   "source": [
    "If we are ever curious about the whether something is truthy or falsy in Python, we can just ask with the `bool` function."
   ]
  },
  {
   "cell_type": "code",
   "execution_count": 123,
   "metadata": {
    "scrolled": true
   },
   "outputs": [
    {
     "data": {
      "text/plain": [
       "False"
      ]
     },
     "execution_count": 123,
     "metadata": {},
     "output_type": "execute_result"
    }
   ],
   "source": [
    "bool(0) # False"
   ]
  },
  {
   "cell_type": "code",
   "execution_count": 124,
   "metadata": {},
   "outputs": [
    {
     "data": {
      "text/plain": [
       "True"
      ]
     },
     "execution_count": 124,
     "metadata": {},
     "output_type": "execute_result"
    }
   ],
   "source": [
    "bool(1) # True"
   ]
  },
  {
   "cell_type": "markdown",
   "metadata": {},
   "source": [
    "### Conditionals in Loops"
   ]
  },
  {
   "cell_type": "markdown",
   "metadata": {},
   "source": [
    "Finally, we can use conditionals in loops.  This is great at filtering out certain elements and selecting just what we need.  Let's see this."
   ]
  },
  {
   "cell_type": "code",
   "execution_count": 18,
   "metadata": {
    "scrolled": true
   },
   "outputs": [
    {
     "data": {
      "text/plain": [
       "['hello', 'hola', 'hallo']"
      ]
     },
     "execution_count": 18,
     "metadata": {},
     "output_type": "execute_result"
    }
   ],
   "source": [
    "greetings = ['hello', 'bonjour', 'hola', 'hallo', 'ciao', 'ola', 'namaste', 'salam']\n",
    "\n",
    "def starts_with_h(words):\n",
    "    selected = []\n",
    "    for word in words:\n",
    "        if word.startswith('h'):\n",
    "            selected.append(word)\n",
    "    return selected \n",
    "\n",
    "starts_with_h(greetings)"
   ]
  },
  {
   "cell_type": "markdown",
   "metadata": {},
   "source": [
    "The above `starts_with_h` function uses a `for` loop to move through the list of words one by one.  For each word, it checks if the word starts with `h` and if it does, it adds that word to the `selected` list.  Finally, the function returns that list of selected elements.  So by using the `for` loop combined with `if` we can choose elements of a list based on a specific criteria."
   ]
  },
  {
   "cell_type": "code",
   "execution_count": 67,
   "metadata": {},
   "outputs": [
    {
     "data": {
      "text/plain": [
       "[100, 100, 20, 110]"
      ]
     },
     "execution_count": 67,
     "metadata": {},
     "output_type": "execute_result"
    }
   ],
   "source": [
    "day_i = [\"Bob:100\", \"Alice:100\", \"Celia:110\", \"Bob:20\"]\n",
    "\n",
    "sort_day_i = sorted(day_i)\n",
    "\n",
    "def list_splitter(big_list):\n",
    "    x = 0\n",
    "    split_list = []\n",
    "    for item in big_list:\n",
    "        cust_pur = item.split(':')\n",
    "        split_list.append(cust_pur[0])\n",
    "        split_list.append(int(cust_pur[1]))\n",
    "        x = x+1\n",
    "    return(split_list)\n",
    "    print(split_list)\n",
    "\n",
    "split_day_i = list_splitter(sort_day_i)\n",
    "split_day_i\n",
    "\n",
    "def purchase_combo(new_list): #returns just values\n",
    "    x = 0\n",
    "    y = x+2\n",
    "    combo_list = []\n",
    "    for thing in new_list:\n",
    "        if x == 0 or x % 2 == 0:\n",
    "            if new_list[x] == new_list[y]:\n",
    "                new_list.pop(y)\n",
    "                new_list[x+1] = new_list[x+1]+new_list[y+1]\n",
    "                new_list.pop(y+1)\n",
    "                combo_list.append(new_list[x])\n",
    "        else:\n",
    "            combo_list.append(new_list[x])\n",
    "        x = x+1\n",
    "        if y == len(new_list):\n",
    "            x = x\n",
    "    return(combo_list)\n",
    "    print(combo_list)\n",
    "    \n",
    "combo_day_i = purchase_combo(split_day_i)\n",
    "combo_day_i"
   ]
  },
  {
   "cell_type": "markdown",
   "metadata": {},
   "source": [
    "### Summary"
   ]
  },
  {
   "cell_type": "markdown",
   "metadata": {},
   "source": [
    "In this lesson, we saw how conditionals allow us to make decisions with our code by only executing code under the `if` statement when the conditional argument is `True` or truthy.  We then saw how we can use the `else` statement to only run code when the conditional argument is `False` or falsy, and as we know, code that is not in a conditional block is still run as normal.  \n",
    "\n",
    "We examined what is truthy or falsy, and saw that None, 0, and data with a length of zero are falsy.  If we are unsure, we can use the `bool` function to see a the boolean value of a piece of data.  Finally, we saw how by using `if` in a `for` loop we can return a subset of a collection that meets a criteria."
   ]
  }
 ],
 "metadata": {
  "kernelspec": {
   "display_name": "Python 3",
   "language": "python",
   "name": "python3"
  },
  "language_info": {
   "codemirror_mode": {
    "name": "ipython",
    "version": 3
   },
   "file_extension": ".py",
   "mimetype": "text/x-python",
   "name": "python",
   "nbconvert_exporter": "python",
   "pygments_lexer": "ipython3",
   "version": "3.6.9"
  }
 },
 "nbformat": 4,
 "nbformat_minor": 2
}
